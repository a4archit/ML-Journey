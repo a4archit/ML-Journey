{
 "cells": [
  {
   "cell_type": "markdown",
   "metadata": {
    "vscode": {
     "languageId": "plaintext"
    }
   },
   "source": [
    "# Weight Prediction\n",
    "\n",
    "In this file we are going to predict human weight by taking two inputs\n",
    "\n",
    "    1. Person height in cm\n",
    "    2. Person's basic body seeing like from:\n",
    "    \n",
    "        - Normal\n",
    "        - Underweight\n",
    "        - Overweight\n",
    "        - Obesity"
   ]
  },
  {
   "cell_type": "code",
   "execution_count": null,
   "metadata": {
    "vscode": {
     "languageId": "plaintext"
    }
   },
   "outputs": [],
   "source": []
  }
 ],
 "metadata": {
  "language_info": {
   "name": "python"
  }
 },
 "nbformat": 4,
 "nbformat_minor": 2
}
