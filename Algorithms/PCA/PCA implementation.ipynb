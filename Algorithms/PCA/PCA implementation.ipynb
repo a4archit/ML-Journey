{
 "cells": [
  {
   "cell_type": "code",
   "execution_count": 1,
   "id": "58731873-17a3-474b-93c6-9cfd5e55e4c6",
   "metadata": {},
   "outputs": [],
   "source": [
    "import numpy as np\n",
    "import pandas as pd"
   ]
  },
  {
   "cell_type": "code",
   "execution_count": 2,
   "id": "bf8f86ae-d7f0-437a-87b1-0b7f63f0eabe",
   "metadata": {},
   "outputs": [],
   "source": [
    "def gender_con(x): # 1-M, 0-F\n",
    "    return 1 if x=='M' else 0\n",
    "    \n",
    "def class_con(x):\n",
    "    if x == 'A':\n",
    "        return 1\n",
    "    if x == 'B':\n",
    "        return 2\n",
    "    if x == 'C':\n",
    "        return 3\n",
    "    if x == 'D':\n",
    "        return 4"
   ]
  },
  {
   "cell_type": "code",
   "execution_count": 3,
   "id": "4b3e7668-9376-4109-8caa-e9c3a2194eaf",
   "metadata": {},
   "outputs": [],
   "source": [
    "df = pd.read_csv(r'bodyPerformance.csv', converters={'gender':gender_con, 'class':class_con})"
   ]
  },
  {
   "cell_type": "code",
   "execution_count": 4,
   "id": "8a6f031c-e12a-4c52-b438-5fbae35b480e",
   "metadata": {},
   "outputs": [
    {
     "data": {
      "text/html": [
       "<div>\n",
       "<style scoped>\n",
       "    .dataframe tbody tr th:only-of-type {\n",
       "        vertical-align: middle;\n",
       "    }\n",
       "\n",
       "    .dataframe tbody tr th {\n",
       "        vertical-align: top;\n",
       "    }\n",
       "\n",
       "    .dataframe thead th {\n",
       "        text-align: right;\n",
       "    }\n",
       "</style>\n",
       "<table border=\"1\" class=\"dataframe\">\n",
       "  <thead>\n",
       "    <tr style=\"text-align: right;\">\n",
       "      <th></th>\n",
       "      <th>age</th>\n",
       "      <th>gender</th>\n",
       "      <th>height_cm</th>\n",
       "      <th>weight_kg</th>\n",
       "      <th>body fat_%</th>\n",
       "      <th>diastolic</th>\n",
       "      <th>systolic</th>\n",
       "      <th>gripForce</th>\n",
       "      <th>sit and bend forward_cm</th>\n",
       "      <th>sit-ups counts</th>\n",
       "      <th>broad jump_cm</th>\n",
       "      <th>class</th>\n",
       "    </tr>\n",
       "  </thead>\n",
       "  <tbody>\n",
       "    <tr>\n",
       "      <th>3123</th>\n",
       "      <td>39.0</td>\n",
       "      <td>1</td>\n",
       "      <td>173.5</td>\n",
       "      <td>68.5</td>\n",
       "      <td>14.3</td>\n",
       "      <td>91.0</td>\n",
       "      <td>123.0</td>\n",
       "      <td>44.9</td>\n",
       "      <td>26.7</td>\n",
       "      <td>59.0</td>\n",
       "      <td>233.0</td>\n",
       "      <td>1</td>\n",
       "    </tr>\n",
       "    <tr>\n",
       "      <th>4262</th>\n",
       "      <td>55.0</td>\n",
       "      <td>1</td>\n",
       "      <td>172.4</td>\n",
       "      <td>68.5</td>\n",
       "      <td>18.4</td>\n",
       "      <td>76.0</td>\n",
       "      <td>141.0</td>\n",
       "      <td>46.0</td>\n",
       "      <td>18.5</td>\n",
       "      <td>28.0</td>\n",
       "      <td>192.0</td>\n",
       "      <td>3</td>\n",
       "    </tr>\n",
       "    <tr>\n",
       "      <th>3205</th>\n",
       "      <td>48.0</td>\n",
       "      <td>0</td>\n",
       "      <td>159.8</td>\n",
       "      <td>64.3</td>\n",
       "      <td>30.4</td>\n",
       "      <td>91.0</td>\n",
       "      <td>128.0</td>\n",
       "      <td>30.7</td>\n",
       "      <td>18.2</td>\n",
       "      <td>35.0</td>\n",
       "      <td>164.0</td>\n",
       "      <td>2</td>\n",
       "    </tr>\n",
       "  </tbody>\n",
       "</table>\n",
       "</div>"
      ],
      "text/plain": [
       "       age  gender  height_cm  weight_kg  body fat_%  diastolic  systolic  \\\n",
       "3123  39.0       1      173.5       68.5        14.3       91.0     123.0   \n",
       "4262  55.0       1      172.4       68.5        18.4       76.0     141.0   \n",
       "3205  48.0       0      159.8       64.3        30.4       91.0     128.0   \n",
       "\n",
       "      gripForce  sit and bend forward_cm  sit-ups counts  broad jump_cm  class  \n",
       "3123       44.9                     26.7            59.0          233.0      1  \n",
       "4262       46.0                     18.5            28.0          192.0      3  \n",
       "3205       30.7                     18.2            35.0          164.0      2  "
      ]
     },
     "execution_count": 4,
     "metadata": {},
     "output_type": "execute_result"
    }
   ],
   "source": [
    "df.sample(3)"
   ]
  },
  {
   "cell_type": "code",
   "execution_count": 5,
   "id": "fabc8b1b-af5e-4559-bc35-63f1565d2470",
   "metadata": {},
   "outputs": [
    {
     "data": {
      "text/plain": [
       "(13393, 12)"
      ]
     },
     "execution_count": 5,
     "metadata": {},
     "output_type": "execute_result"
    }
   ],
   "source": [
    "df.shape"
   ]
  },
  {
   "cell_type": "code",
   "execution_count": 6,
   "id": "c0ef2526-7e68-4058-b484-dbca0ff35e18",
   "metadata": {},
   "outputs": [],
   "source": [
    "X = df.drop(columns=['class'])\n",
    "y = df.iloc[:,-1]"
   ]
  },
  {
   "cell_type": "code",
   "execution_count": 7,
   "id": "6f91dc3c-e018-4831-b74b-80e59098f7e9",
   "metadata": {},
   "outputs": [],
   "source": [
    "# train test splitting\n",
    "\n",
    "from sklearn.model_selection import train_test_split\n",
    "X_train, X_test, y_train, y_test = train_test_split(X,y, test_size=0.2, random_state=0)"
   ]
  },
  {
   "cell_type": "code",
   "execution_count": 8,
   "id": "7f739cd3-ee3e-4a5b-89c5-3e264541df68",
   "metadata": {},
   "outputs": [],
   "source": [
    "# standardization\n",
    "\n",
    "from sklearn.preprocessing import StandardScaler\n",
    "scaler = StandardScaler()\n",
    "scaler.fit(X_train)\n",
    "X_train_scaled = scaler.transform(X_train)\n",
    "X_test_scaled = scaler.transform(X_test)"
   ]
  },
  {
   "cell_type": "markdown",
   "id": "652e8d72-2b39-4471-b6ee-a58a154af2e8",
   "metadata": {},
   "source": [
    "#### **KNN**: Before PCA"
   ]
  },
  {
   "cell_type": "code",
   "execution_count": 9,
   "id": "8edef4ea-63c6-4428-b652-11affd8145ca",
   "metadata": {},
   "outputs": [],
   "source": [
    "# KNN before PCA\n",
    "\n",
    "from sklearn.neighbors import KNeighborsClassifier\n",
    "knn = KNeighborsClassifier()\n",
    "knn.fit(X_train_scaled, y_train)\n",
    "y_pred_b = knn.predict(X_test_scaled)"
   ]
  },
  {
   "cell_type": "code",
   "execution_count": 10,
   "id": "981f0317-2523-44a0-a00c-8fe1897bba00",
   "metadata": {},
   "outputs": [
    {
     "data": {
      "text/plain": [
       "0.5979843225083986"
      ]
     },
     "execution_count": 10,
     "metadata": {},
     "output_type": "execute_result"
    }
   ],
   "source": [
    "# accuracy score before PCA\n",
    "\n",
    "from sklearn.metrics import accuracy_score\n",
    "accuracy_score(y_test, y_pred_b)"
   ]
  },
  {
   "cell_type": "markdown",
   "id": "53cc8867-80f8-4bf4-ba90-9639445f19d7",
   "metadata": {},
   "source": [
    "#### PCA"
   ]
  },
  {
   "cell_type": "code",
   "execution_count": 11,
   "id": "281c11de-89f6-498d-970e-ee245a29e02b",
   "metadata": {},
   "outputs": [],
   "source": [
    "# applying PCA\n",
    "\n",
    "from sklearn.decomposition import PCA\n",
    "\n",
    "pca = PCA(n_components = 8) # here we use 8 dimensions instead of 12 (in pca)\n",
    "X_train_pca = pca.fit_transform(X_train_scaled)\n",
    "X_test_pca = pca.transform(X_test_scaled)\n",
    "\n",
    "# KNN\n",
    "knn = KNeighborsClassifier()\n",
    "knn.fit(X_train_pca, y_train)\n",
    "y_pred_a = knn.predict(X_test_pca)"
   ]
  },
  {
   "cell_type": "code",
   "execution_count": 12,
   "id": "2310c283-7022-4b55-8e9c-b627af883675",
   "metadata": {},
   "outputs": [
    {
     "data": {
      "text/plain": [
       "0.6020903322135125"
      ]
     },
     "execution_count": 12,
     "metadata": {},
     "output_type": "execute_result"
    }
   ],
   "source": [
    "# accuracy score after PCA\n",
    "\n",
    "accuracy_score(y_test, y_pred_a)"
   ]
  },
  {
   "cell_type": "code",
   "execution_count": null,
   "id": "4df5e898-ec43-47be-953f-272520073bb6",
   "metadata": {},
   "outputs": [],
   "source": []
  }
 ],
 "metadata": {
  "kernelspec": {
   "display_name": "Python 3",
   "language": "python",
   "name": "python3"
  },
  "language_info": {
   "codemirror_mode": {
    "name": "ipython",
    "version": 3
   },
   "file_extension": ".py",
   "mimetype": "text/x-python",
   "name": "python",
   "nbconvert_exporter": "python",
   "pygments_lexer": "ipython3",
   "version": "3.12.3"
  }
 },
 "nbformat": 4,
 "nbformat_minor": 5
}
