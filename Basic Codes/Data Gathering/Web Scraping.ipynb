{
 "cells": [
  {
   "cell_type": "code",
   "execution_count": 84,
   "id": "ae425721-ea16-42ab-b510-d804f7e1d1b0",
   "metadata": {},
   "outputs": [],
   "source": [
    "import requests\n",
    "import pandas as pd\n",
    "import lxml\n",
    "import numpy as np\n",
    "import seaborn as sns"
   ]
  },
  {
   "cell_type": "code",
   "execution_count": 4,
   "id": "a15cc9c3-d096-482e-9b14-ee77b37d9a65",
   "metadata": {},
   "outputs": [],
   "source": [
    "from bs4 import BeautifulSoup"
   ]
  },
  {
   "cell_type": "code",
   "execution_count": 24,
   "id": "3bd520cb-b5a5-4741-a502-c629cdec42f8",
   "metadata": {},
   "outputs": [],
   "source": [
    "url = 'https://www.pdfdrive.com/category/5'\n",
    "headers = {\"User-Agent\": \"Mozilla/5.0 (Macintosh; Intel Mac OS X 10.14; rv:66.0) Gecko/20100101 Firefox/66.0\"}\n",
    "webpage = requests.get(url, headers = headers).text\n",
    "soup = BeautifulSoup(webpage, 'html')"
   ]
  },
  {
   "cell_type": "code",
   "execution_count": 36,
   "id": "1fcc0630-07b3-4e1a-93ce-b1f18311dba1",
   "metadata": {},
   "outputs": [],
   "source": [
    "title = []\n",
    "pages = []\n",
    "year = []\n",
    "size_mb = []"
   ]
  },
  {
   "cell_type": "code",
   "execution_count": 57,
   "id": "12976667-a87c-45ce-91d6-31bb22590aa9",
   "metadata": {},
   "outputs": [],
   "source": [
    "# for title_tag in soup.find_all('h2'):\n",
    "#     title.append(title_tag.text)"
   ]
  },
  {
   "cell_type": "code",
   "execution_count": 48,
   "id": "38505626-743b-49e0-b08b-415da61decc5",
   "metadata": {},
   "outputs": [],
   "source": [
    "# for x in soup.find_all('span', class_='fi-size'):\n",
    "#     size_mb.append(x.text)"
   ]
  },
  {
   "cell_type": "code",
   "execution_count": 59,
   "id": "f5819812-c7e0-42a7-adea-477a16ff40ad",
   "metadata": {},
   "outputs": [
    {
     "data": {
      "text/plain": [
       "20"
      ]
     },
     "execution_count": 59,
     "metadata": {},
     "output_type": "execute_result"
    }
   ],
   "source": [
    "len(title)"
   ]
  },
  {
   "cell_type": "code",
   "execution_count": 66,
   "id": "993402e2-f039-4cce-905b-8688714f3e39",
   "metadata": {},
   "outputs": [],
   "source": [
    "df = pd.DataFrame({\"Title\":title, \"Pages\":pages, \"year\":year, \"size\":size_mb})"
   ]
  },
  {
   "cell_type": "code",
   "execution_count": 67,
   "id": "84cf0ce8-b4a2-434b-9a03-7c4ffca0f0f4",
   "metadata": {},
   "outputs": [],
   "source": [
    "df.Pages = df.Pages.apply(lambda x: x.split(' ')[0])"
   ]
  },
  {
   "cell_type": "code",
   "execution_count": 72,
   "id": "75bff4d8-e81f-4a59-850a-3a4afd170bde",
   "metadata": {},
   "outputs": [],
   "source": [
    "df['size_type'] = df['size'].apply(lambda x: str(x).split(' ')[1])"
   ]
  },
  {
   "cell_type": "code",
   "execution_count": 74,
   "id": "776d0dc8-85bb-4b4f-944f-544c480eea11",
   "metadata": {},
   "outputs": [],
   "source": [
    "df['size'] = df['size'].apply(lambda x: x.split(' ')[0])"
   ]
  },
  {
   "cell_type": "code",
   "execution_count": 82,
   "id": "59dffcaa-055b-40ed-bacd-b4f433787367",
   "metadata": {},
   "outputs": [],
   "source": [
    "df.size_type = np.where((df['size_type'] == 'MB'), 1, 0)"
   ]
  },
  {
   "cell_type": "code",
   "execution_count": 87,
   "id": "e34cad75-e69b-410c-b233-220379e1d11e",
   "metadata": {},
   "outputs": [
    {
     "data": {
      "text/plain": [
       "<Axes: ylabel='Pages'>"
      ]
     },
     "execution_count": 87,
     "metadata": {},
     "output_type": "execute_result"
    },
    {
     "data": {
      "image/png": "[encoded data removed]",
      "text/plain": [
       "<Figure size 640x480 with 1 Axes>"
      ]
     },
     "metadata": {},
     "output_type": "display_data"
    }
   ],
   "source": [
    "sns.boxplot(df.Pages)"
   ]
  }
 ],
 "metadata": {
  "kernelspec": {
   "display_name": "Python 3 (ipykernel)",
   "language": "python",
   "name": "python3"
  },
  "language_info": {
   "codemirror_mode": {
    "name": "ipython",
    "version": 3
   },
   "file_extension": ".py",
   "mimetype": "text/x-python",
   "name": "python",
   "nbconvert_exporter": "python",
   "pygments_lexer": "ipython3",
   "version": "3.12.3"
  }
 },
 "nbformat": 4,
 "nbformat_minor": 5
}
