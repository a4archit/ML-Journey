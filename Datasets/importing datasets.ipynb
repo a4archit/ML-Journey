{
 "cells": [
  {
   "cell_type": "markdown",
   "metadata": {},
   "source": [
    "# We use this file for importing different - different datasets from many places <small>(i.e., `Github`, `Kaggle`, `Other internet sources`)</small>"
   ]
  },
  {
   "cell_type": "code",
   "execution_count": 7,
   "metadata": {},
   "outputs": [],
   "source": [
    "import pandas as pd"
   ]
  },
  {
   "cell_type": "code",
   "execution_count": 6,
   "metadata": {},
   "outputs": [],
   "source": [
    "# here we importing 'iris' dataset from github\n",
    "\n",
    "# Note -> Use this code only when you don't have Iris.csv dataset at your appropriate location\n",
    "\n",
    "# df = pd.read_csv(\"https://raw.githubusercontent.com/arib168/data/refs/heads/main/Iris.csv\")\n",
    "# df.to_csv(\"/workspaces/ML-Journey/Datasets/Iris.csv\")"
   ]
  },
  {
   "cell_type": "code",
   "execution_count": null,
   "metadata": {},
   "outputs": [],
   "source": []
  }
 ],
 "metadata": {
  "kernelspec": {
   "display_name": "Python 3",
   "language": "python",
   "name": "python3"
  },
  "language_info": {
   "codemirror_mode": {
    "name": "ipython",
    "version": 3
   },
   "file_extension": ".py",
   "mimetype": "text/x-python",
   "name": "python",
   "nbconvert_exporter": "python",
   "pygments_lexer": "ipython3",
   "version": "3.12.1"
  }
 },
 "nbformat": 4,
 "nbformat_minor": 2
}
